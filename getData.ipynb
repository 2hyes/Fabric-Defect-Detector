{
 "metadata": {
  "language_info": {
   "codemirror_mode": {
    "name": "ipython",
    "version": 3
   },
   "file_extension": ".py",
   "mimetype": "text/x-python",
   "name": "python",
   "nbconvert_exporter": "python",
   "pygments_lexer": "ipython3",
   "version": "3.8.3-final"
  },
  "orig_nbformat": 2,
  "kernelspec": {
   "name": "python3",
   "display_name": "Python 3"
  }
 },
 "nbformat": 4,
 "nbformat_minor": 2,
 "cells": [
  {
   "cell_type": "code",
   "execution_count": 1,
   "metadata": {},
   "outputs": [
    {
     "output_type": "error",
     "ename": "ModuleNotFoundError",
     "evalue": "No module named 'torch'",
     "traceback": [
      "\u001b[0;31m---------------------------------------------------------------------------\u001b[0m",
      "\u001b[0;31mModuleNotFoundError\u001b[0m                       Traceback (most recent call last)",
      "\u001b[0;32m<ipython-input-1-d83a8db3f735>\u001b[0m in \u001b[0;36m<module>\u001b[0;34m\u001b[0m\n\u001b[0;32m----> 1\u001b[0;31m \u001b[0;32mimport\u001b[0m \u001b[0mtorch\u001b[0m\u001b[0;34m\u001b[0m\u001b[0;34m\u001b[0m\u001b[0m\n\u001b[0m\u001b[1;32m      2\u001b[0m \u001b[0;32mimport\u001b[0m \u001b[0mos\u001b[0m\u001b[0;34m\u001b[0m\u001b[0;34m\u001b[0m\u001b[0m\n\u001b[1;32m      3\u001b[0m \u001b[0;32mimport\u001b[0m \u001b[0mtorchvision\u001b[0m\u001b[0;34m\u001b[0m\u001b[0;34m\u001b[0m\u001b[0m\n\u001b[1;32m      4\u001b[0m \u001b[0;32mimport\u001b[0m \u001b[0mtorchvision\u001b[0m\u001b[0;34m.\u001b[0m\u001b[0mtransforms\u001b[0m \u001b[0;32mas\u001b[0m \u001b[0mtransforms\u001b[0m\u001b[0;34m\u001b[0m\u001b[0;34m\u001b[0m\u001b[0m\n\u001b[1;32m      5\u001b[0m \u001b[0;32mfrom\u001b[0m \u001b[0mtorchvision\u001b[0m\u001b[0;34m.\u001b[0m\u001b[0mdatasets\u001b[0m \u001b[0;32mimport\u001b[0m \u001b[0mImageFolder\u001b[0m\u001b[0;34m\u001b[0m\u001b[0;34m\u001b[0m\u001b[0m\n",
      "\u001b[0;31mModuleNotFoundError\u001b[0m: No module named 'torch'"
     ]
    }
   ],
   "source": [
    "import torch\n",
    "import os\n",
    "import torchvision\n",
    "import torchvision.transforms as transforms\n",
    "from torchvision.datasets import ImageFolder"
   ]
  },
  {
   "source": [
    "# step1. train : val : test split\n",
    "\n",
    "*  nodefect(정상 데이터) - 6 : 2 : 2 ( 85, 28, 28장 )\n",
    "*  defect(결함 데이터) - 0 : 1 : 1 ( 0, 52, 53장 )\n"
   ],
   "cell_type": "markdown",
   "metadata": {}
  },
  {
   "source": [
    "### data load"
   ],
   "cell_type": "markdown",
   "metadata": {}
  },
  {
   "cell_type": "code",
   "execution_count": 1,
   "metadata": {},
   "outputs": [
    {
     "output_type": "error",
     "ename": "NameError",
     "evalue": "name 'transforms' is not defined",
     "traceback": [
      "\u001b[0;31m---------------------------------------------------------------------------\u001b[0m",
      "\u001b[0;31mNameError\u001b[0m                                 Traceback (most recent call last)",
      "\u001b[0;32m<ipython-input-1-4f619d06ce50>\u001b[0m in \u001b[0;36m<module>\u001b[0;34m\u001b[0m\n\u001b[0;32m----> 1\u001b[0;31m \u001b[0mtransform\u001b[0m \u001b[0;34m=\u001b[0m \u001b[0mtransforms\u001b[0m\u001b[0;34m.\u001b[0m\u001b[0mCompose\u001b[0m\u001b[0;34m(\u001b[0m\u001b[0;34m[\u001b[0m\u001b[0mtransforms\u001b[0m\u001b[0;34m.\u001b[0m\u001b[0mToTensor\u001b[0m\u001b[0;34m(\u001b[0m\u001b[0;34m)\u001b[0m\u001b[0;34m]\u001b[0m\u001b[0;34m)\u001b[0m\u001b[0;34m\u001b[0m\u001b[0;34m\u001b[0m\u001b[0m\n\u001b[0m\u001b[1;32m      2\u001b[0m \u001b[0;34m\u001b[0m\u001b[0m\n\u001b[1;32m      3\u001b[0m \u001b[0mnodefect_dataset\u001b[0m \u001b[0;34m=\u001b[0m \u001b[0mImageFolder\u001b[0m\u001b[0;34m(\u001b[0m\u001b[0mroot\u001b[0m\u001b[0;34m=\u001b[0m \u001b[0;34m\"./data/NoDefect/\"\u001b[0m\u001b[0;34m,\u001b[0m \u001b[0mtransform\u001b[0m\u001b[0;34m=\u001b[0m\u001b[0mtransform\u001b[0m\u001b[0;34m)\u001b[0m\u001b[0;34m\u001b[0m\u001b[0;34m\u001b[0m\u001b[0m\n\u001b[1;32m      4\u001b[0m \u001b[0mnodefect_loader\u001b[0m \u001b[0;34m=\u001b[0m \u001b[0mtorch\u001b[0m\u001b[0;34m.\u001b[0m\u001b[0mutils\u001b[0m\u001b[0;34m.\u001b[0m\u001b[0mdata\u001b[0m\u001b[0;34m.\u001b[0m\u001b[0mDataLoader\u001b[0m\u001b[0;34m(\u001b[0m\u001b[0mnodefect_dataset\u001b[0m\u001b[0;34m)\u001b[0m\u001b[0;34m\u001b[0m\u001b[0;34m\u001b[0m\u001b[0m\n",
      "\u001b[0;31mNameError\u001b[0m: name 'transforms' is not defined"
     ]
    }
   ],
   "source": [
    "# nodefect\n",
    "transform = transforms.Compose([transforms.ToTensor()])\n",
    "\n",
    "nodefect_dataset = ImageFolder(root= \"./data/NoDefect/\", transform=transform)\n",
    "nodefect_loader = torch.utils.data.DataLoader(nodefect_dataset)"
   ]
  },
  {
   "cell_type": "code",
   "execution_count": null,
   "metadata": {},
   "outputs": [],
   "source": [
    "## train : val : test = 6 : 2 : 2 로 split\n",
    "train_size = int(0.6 * len(nodefect_dataset) +1) # 85\n",
    "val_size = int(0.2 * len(nodefect_dataset)) # 28\n",
    "test_size = len(nodefect_dataset) - train_size - val_size # 28\n",
    "print(train_size, val_size, test_size)\n",
    "\n",
    "train_dataset_split, val_dataset_split, test_dataset_split = torch.utils.data.random_split(nodefect_dataset, [train_size, val_size, test_size])"
   ]
  },
  {
   "cell_type": "code",
   "execution_count": null,
   "metadata": {},
   "outputs": [],
   "source": [
    "# defect \n",
    "# 0094_027_05.png 이미지 사이즈 오류 -> 삭제했음\n",
    "transform = transforms.Compose([transforms.ToTensor()])\n",
    "\n",
    "defect_dataset = ImageFolder(root= \"./data/Defect/\", transform=transform)\n",
    "defect_loader = torch.utils.data.DataLoader(defect_dataset)\n",
    "## train : val : test = 0 : 1 : 1 로 split\n",
    "val_size = int(0.5 * len(defect_dataset)) # 52\n",
    "test_size = len(defect_dataset) - val_size # 53\n",
    "print( val_size, test_size)\n",
    "\n",
    "val_dataset_split2, test_dataset_split2 = torch.utils.data.random_split(defect_dataset, [val_size, test_size])"
   ]
  },
  {
   "source": [
    "### split"
   ],
   "cell_type": "markdown",
   "metadata": {}
  },
  {
   "cell_type": "code",
   "execution_count": null,
   "metadata": {},
   "outputs": [],
   "source": [
    "train_split_loader = torch.utils.data.DataLoader(train_dataset_split)"
   ]
  },
  {
   "cell_type": "code",
   "execution_count": null,
   "metadata": {},
   "outputs": [],
   "source": [
    "val_nodefectsplit_loader = torch.utils.data.DataLoader(val_dataset_split)\n",
    "val_defectsplit_loader = torch.utils.data.DataLoader(val_dataset_split2)"
   ]
  },
  {
   "cell_type": "code",
   "execution_count": null,
   "metadata": {},
   "outputs": [],
   "source": [
    "test_nodefectsplit_loader = torch.utils.data.DataLoader(test_dataset_split)\n",
    "test_defectsplit_loader = torch.utils.data.DataLoader(test_dataset_split2)"
   ]
  },
  {
   "source": [
    "# step2: divided into patches\n",
    "* dataloader로 불러온 이미지를 **_nodefect(or defect).png 형태로 저장 "
   ],
   "cell_type": "markdown",
   "metadata": {}
  },
  {
   "cell_type": "code",
   "execution_count": null,
   "metadata": {},
   "outputs": [],
   "source": [
    "def save_img(img, idx, targets, path, defectness):  \n",
    "  if defectness == True: # defect 이미지일때\n",
    "    save_path = os.path.join(path,\"{0:02d}_defect.png\".format(idx+28))\n",
    "    print(\"{0:02d}_defect.png\".format(idx+28))\n",
    "  else: # nodefect 이미지일때\n",
    "    save_path = os.path.join(path,\"{0:02d}_nodefect.png\".format(idx))\n",
    "    print(\"{0:02d}_nodefect.png\".format(idx))\n",
    "\n",
    "\n",
    "  save_image(img, save_path)   #자른 이미지 저장"
   ]
  },
  {
   "cell_type": "code",
   "execution_count": null,
   "metadata": {},
   "outputs": [],
   "source": [
    "def process(path, defectness, loader):\n",
    "  for batch_idx, (inputs, targets) in enumerate(loader):\n",
    "    save_img(inputs[0], batch_idx, targets, path,defectness)"
   ]
  },
  {
   "cell_type": "code",
   "execution_count": null,
   "metadata": {},
   "outputs": [],
   "source": [
    "# train\n",
    "process(\"./data/nocrop/train\", False, train_split_loader)"
   ]
  },
  {
   "cell_type": "code",
   "execution_count": null,
   "metadata": {},
   "outputs": [],
   "source": [
    "# test - nodefect (# = 28)\n",
    "process(\"./data/nocrop/test\", False, test_nodefectsplit_loader)"
   ]
  },
  {
   "cell_type": "code",
   "execution_count": null,
   "metadata": {},
   "outputs": [],
   "source": [
    "# test - defect (# = 53)\n",
    "process(\"./data/nocrop/test\", True, test_defectsplit_loader)"
   ]
  },
  {
   "cell_type": "code",
   "execution_count": null,
   "metadata": {},
   "outputs": [],
   "source": [
    "# val - nodefect ( # = 28)\n",
    "process(\"./data/nocrop/val\", False, val_nodefectsplit_loader)\n",
    "process(\"./data/nocrop/val_for_training\", False, val_nodefectsplit_loader)"
   ]
  },
  {
   "cell_type": "code",
   "execution_count": null,
   "metadata": {},
   "outputs": [],
   "source": [
    "# val - defect (# = 52)\n",
    "process(\"./data/nocrop/val\", True, val_defectsplit_loader)"
   ]
  }
 ]
}