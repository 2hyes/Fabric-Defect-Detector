{
 "metadata": {
  "language_info": {
   "codemirror_mode": {
    "name": "ipython",
    "version": 3
   },
   "file_extension": ".py",
   "mimetype": "text/x-python",
   "name": "python",
   "nbconvert_exporter": "python",
   "pygments_lexer": "ipython3",
   "version": 3
  },
  "orig_nbformat": 2
 },
 "nbformat": 4,
 "nbformat_minor": 2,
 "cells": [
  {
   "source": [
    "# Step4: test"
   ],
   "cell_type": "markdown",
   "metadata": {}
  },
  {
   "cell_type": "code",
   "execution_count": null,
   "metadata": {},
   "outputs": [],
   "source": [
    "def test_img(model_path, test_images):\n",
    "  global patch\n",
    "  test_patches = patch(test_images)\n",
    "\n",
    "  loss_func = nn.MSELoss()\n",
    "  new_model = Autoencoder4().to(device)\n",
    "  new_model.load_state_dict(torch.load(model_path))\n",
    "  new_model.eval()\n",
    "  FP=0;TP=0;TN=0;FN=0;\n",
    "  y_true = []\n",
    "  y_pred = []\n",
    "  img_idx=0\n",
    "  for patch in test_patches:\n",
    "\n",
    "    if img_idx<28:\n",
    "        y_true.append(0) #정상\n",
    "    else:\n",
    "        y_true.append(1)\n",
    "\n",
    "    defectness_list = []\n",
    "    for patch_idx in range(256):\n",
    "      one_patch = patch[patch_idx].view(1,1,64,64)\n",
    "      one_patch = Variable(one_patch).cuda()\n",
    "      pred = new_model(one_patch)\n",
    "      loss = loss_func(pred, one_patch)\n",
    "      defectness = patch_prediction(loss, 0.0028) # T / F값이 리턴됨\n",
    "\n",
    "      defectness_list.append(defectness)\n",
    "    image_defectness = image_prediction(3, defectness_list)\n",
    "\n",
    "    if img_idx < 28:\n",
    "      if image_defectness == True:\n",
    "        y_pred.append(1)\n",
    "      else:\n",
    "        y_pred.append(0)\n",
    "    else:\n",
    "      if image_defectness == True:\n",
    "        y_pred.append(1)\n",
    "      else:\n",
    "        y_pred.append(0)\n",
    "\n",
    "    plt.imshow(np.transpose(test_images[img_idx].view(256,4096), (0, 1)), cmap=\"gray\")\n",
    "    plt.show()\n",
    "    print(\"patch defect is {}.\".format(sum(defectness_list)))\n",
    "    if image_defectness == True:\n",
    "      print(\"fabric #\",img_idx,\" is DEFECT.\")\n",
    "    else:\n",
    "      print(\"fabric #\",img_idx,\" is nodefect.\")\n",
    "    print()\n",
    "    print()\n",
    "    img_idx +=1\n",
    "  \n",
    "  print(\"f1score = \",f1_score(y_true, y_pred))\n",
    "  \n",
    "  confusion_matrix2= confusion_matrix(y_true, y_pred)\n",
    "  sns.heatmap(confusion_matrix2.T, annot=True,fmt='d',\n",
    "              xticklabels=['nodefect','defect'], yticklabels=['nodefect','defect'],cmap=\"YlGnBu\")\n",
    "  plt.xlabel('true')\n",
    "  plt.ylabel('predicted')\n",
    "  plt.title('Confusion Matirx', fontsize=20)"
   ]
  },
  {
   "cell_type": "code",
   "execution_count": null,
   "metadata": {},
   "outputs": [],
   "source": [
    "model_path = \"./data/nocrop/model/finalepoch/Autoencoder4.pth\" # 성능평가에서 제일 좋았던 걸로 선택\n",
    "image_path =  \"./data/nocrop/test/*.png\"\n",
    "test_images = [cv2.imread(file, cv2.IMREAD_GRAYSCALE) for file in sorted(glob.glob(image_path))]  "
   ]
  },
  {
   "cell_type": "code",
   "execution_count": null,
   "metadata": {},
   "outputs": [],
   "source": [
    "def patch(images):\n",
    "  patch_size = 64\n",
    "  global patch\n",
    "  global patches\n",
    "  for i in range(len(images)):\n",
    "    images[i] = transforms.ToTensor()((images[i]))\n",
    "    # unfold로 shape조절 --> view --> [patch개수, patch_size, patch_size]\n",
    "    patches = images[i].data.unfold(1, patch_size, patch_size).unfold(2, patch_size, patch_size) \n",
    "    patches = patches.contiguous().view(-1, patch_size, patch_size) \n",
    "\n",
    "    if i == 0:\n",
    "      patch = patches\n",
    "    if i > 0:\n",
    "      patches = torch.cat((patch, patches))\n",
    "      patch = patches\n",
    "\n",
    "  patches = patches.view(len(images), -1, patch_size, patch_size) \n",
    "  return patches"
   ]
  },
  {
   "cell_type": "code",
   "execution_count": null,
   "metadata": {},
   "outputs": [],
   "source": [
    "test_img(model_path, test_images) # 3 0.0028"
   ]
  }
 ]
}